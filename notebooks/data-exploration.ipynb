{
 "cells": [
  {
   "cell_type": "code",
   "execution_count": null,
   "id": "7c8df248",
   "metadata": {},
   "outputs": [],
   "source": [
    "import tensorflow as tf\n",
    "import numpy as np\n",
    "import pandas as pd\n",
    "\n",
    "import matplotlib.pyplot as plt\n",
    "from ydata_profiling import ProfileReport"
   ]
  },
  {
   "cell_type": "code",
   "execution_count": null,
   "id": "32124fb3",
   "metadata": {},
   "outputs": [],
   "source": [
    "#Download the CIFAR-10 dataset from TensorFlow Datasets\n",
    "(X_train, y_train), (X_test, y_test) = tf.keras.datasets.cifar10.load_data()\n",
    "#Class names for CIFAR-10 dataset\n",
    "class_names = [\n",
    "    'airplane', 'automobile', 'bird', 'cat', 'deer',\n",
    "    'dog', 'frog', 'horse', 'ship', 'truck'\n",
    "]\n",
    "# Check the shape of the dataset\n",
    "print(f\"Training data shape: {X_train.shape}, Training labels shape: {y_train.shape}\")\n",
    "print(f\"Test data shape: {X_test.shape}, Test labels shape: {y_test.shape}\")"
   ]
  },
  {
   "cell_type": "code",
   "execution_count": null,
   "id": "dc028b74",
   "metadata": {},
   "outputs": [],
   "source": [
    "# Visualize some images from the dataset\n",
    "plt.figure(figsize=(10, 10))\n",
    "for i in range(10):\n",
    "    ax = plt.subplot(5, 5, i + 1)\n",
    "    plt.imshow(X_train[i])\n",
    "    plt.title(class_names[y_train[i][0]])\n",
    "    plt.axis(\"off\")\n",
    "plt.savefig('../results/cifar10_sample_images.png')\n",
    "plt.show()"
   ]
  },
  {
   "cell_type": "code",
   "execution_count": null,
   "id": "85fb2a9f",
   "metadata": {},
   "outputs": [],
   "source": [
    "# Class distribution in the training set\n",
    "df_train = pd.DataFrame(y_train, columns=['label'])\n",
    "df_train['Class'] = df_train['label'].map(dict(enumerate(class_names)))\n",
    "plt.figure(figsize=(10, 5))\n",
    "df_train['Class'].value_counts().plot(kind='bar')\n",
    "plt.title('Class Distribution in CIFAR-10 Training Set')\n",
    "plt.xlabel('Class')\n",
    "plt.ylabel('Number of Images')\n",
    "plt.xticks(rotation=45)\n",
    "plt.savefig('../results/cifar10_class_distribution.png')\n",
    "plt.show()"
   ]
  },
  {
   "cell_type": "code",
   "execution_count": null,
   "id": "53a36280",
   "metadata": {},
   "outputs": [],
   "source": [
    "profile = ProfileReport(df_train, title=\"CIFAR-10 Label Distribution\")\n",
    "profile.to_file(f'../results/eda_report.html')"
   ]
  }
 ],
 "metadata": {
  "kernelspec": {
   "display_name": ".venv",
   "language": "python",
   "name": "python3"
  },
  "language_info": {
   "codemirror_mode": {
    "name": "ipython",
    "version": 3
   },
   "file_extension": ".py",
   "mimetype": "text/x-python",
   "name": "python",
   "nbconvert_exporter": "python",
   "pygments_lexer": "ipython3",
   "version": "3.12.3"
  }
 },
 "nbformat": 4,
 "nbformat_minor": 5
}
